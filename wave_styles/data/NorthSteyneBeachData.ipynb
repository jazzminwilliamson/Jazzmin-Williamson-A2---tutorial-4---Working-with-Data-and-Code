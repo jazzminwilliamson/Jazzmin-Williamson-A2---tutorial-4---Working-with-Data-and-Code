{
  "nbformat": 4,
  "nbformat_minor": 0,
  "metadata": {
    "colab": {
      "provenance": []
    },
    "kernelspec": {
      "name": "python3",
      "display_name": "Python 3"
    },
    "language_info": {
      "name": "python"
    }
  },
  "cells": [
    {
      "cell_type": "code",
      "execution_count": 1,
      "metadata": {
        "id": "lzYTHG90Y505"
      },
      "outputs": [],
      "source": [
        "import json\n",
        "\n",
        "# Store all your data as Python dictionaries in a list\n",
        "NorthSteyneBeachData = [\n",
        "    { \"Date\": \"02/09/2020\", \"Water Temperature\": \"15 degrees\", \"Enterococci/100ml (bacteria)\": 0 },\n",
        "    { \"Date\": \"01/09/2021\", \"Water Temperature\": \"17 degrees\", \"Enterococci/100ml (bacteria)\": 0 },\n",
        "    { \"Date\": \"02/09/2022\", \"Water Temperature\": \"17 degrees\", \"Enterococci/100ml (bacteria)\": 0 },\n",
        "    { \"Date\": \"01/09/2023\", \"Water Temperature\": \"16 degrees\", \"Enterococci/100ml (bacteria)\": 2 },\n",
        "    { \"Date\": \"06/09/2024\", \"Water Temperature\": \"17 degrees\", \"Enterococci/100ml (bacteria)\": 0 },\n",
        "    { \"Date\": \"01/09/2025\", \"Water Temperature\": \"17 degrees\", \"Enterococci/100ml (bacteria)\": 2 }\n",
        "]\n",
        "\n",
        "# Write the list of dictionaries to a JSON file\n",
        "with open(\"NorthSteyneBeachData.json\", \"w\") as json_file:\n",
        "    json.dump(NorthSteyneBeachData, json_file, indent=4)\n"
      ]
    }
  ]
}